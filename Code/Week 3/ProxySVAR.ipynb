{
 "cells": [
  {
   "cell_type": "markdown",
   "metadata": {},
   "source": [
    "# Proxy SVAR with RR2004 as external instrument\n",
    "\n",
    "In this notebook, we look how to obtain the first row of the impact matrix $S$ using external instruments in a Proxy SVAR.\n",
    "\n",
    "In this case, we will just consider the simple case with one instrument and one shock, within a three variable VAR model.\n",
    "\n",
    "In a monetary VAR, those variables can be\n",
    "1. Federal Funds Rate\n",
    "2. Industrial Production\n",
    "3. Consumer Price Index\n",
    "\n",
    "## Step 1: Estimate the VAR to get the reduced-form residuals $u_t$"
   ]
  },
  {
   "cell_type": "code",
   "execution_count": 1,
   "metadata": {},
   "outputs": [],
   "source": [
    "import pandas as pd"
   ]
  },
  {
   "cell_type": "markdown",
   "metadata": {},
   "source": [
    "### Load data"
   ]
  },
  {
   "cell_type": "code",
   "execution_count": 2,
   "metadata": {},
   "outputs": [],
   "source": [
    "MP_data = pd.read_excel(\"data/MP_data.xlsx\")\n",
    "\n",
    "Y = MP_data[['FFR', 'LIP', 'LCPI']]\n",
    "Y_1 = Y.shift(1)\n",
    "\n",
    "# Because we take one lag of Y we lose the first observation\n",
    "Y = Y.iloc[1:,:]\n",
    "Y_1 = Y_1.iloc[1:,:]\n",
    "\n",
    "Y.reset_index(drop=True, inplace=True)\n",
    "Y_1.reset_index(drop=True, inplace=True)\n",
    "\n",
    "Y.head(5)\n",
    "# Y_1.head(5)\n",
    "\n",
    "# Transform to numpy since we are going to use our own OLS estimator\n",
    "Y = Y.to_numpy()\n",
    "Y_1 = Y_1.to_numpy()"
   ]
  },
  {
   "cell_type": "markdown",
   "metadata": {},
   "source": [
    "#### OLS function"
   ]
  },
  {
   "cell_type": "code",
   "execution_count": 3,
   "metadata": {},
   "outputs": [],
   "source": [
    "import numpy as np\n",
    "import scipy.stats as stats\n",
    "\n",
    "def OLS(X,y,p):\n",
    "    \n",
    "    T = X.shape[0]\n",
    "    K = X.shape[1]\n",
    "    \n",
    "    # Obtain the coefficients using the OLS formula (X^T*X)^(-1)*X^T*y\n",
    "    A1 = np.matmul(X.T,X)\n",
    "    A = np.linalg.inv(A1)\n",
    "    B = np.matmul(X.T,y) # This is the Cov(X,y) = E(Xy)\n",
    "    coefficients = np.matmul(A,B)\n",
    "    \n",
    "    # Compute fitted values and residuals\n",
    "    y_hat = np.matmul(X,coefficients)\n",
    "    residuals = y - y_hat\n",
    "    \n",
    "    # Compute the variance of the residuals\n",
    "    residuals_squared = np.matmul(residuals.T,residuals)\n",
    "    Sigma = residuals_squared / (T - K*p)\n",
    "    \n",
    "    return coefficients, residuals, Sigma, B\n"
   ]
  },
  {
   "cell_type": "markdown",
   "metadata": {},
   "source": [
    "Now we can proceed to get the residuals by calling the OLS function"
   ]
  },
  {
   "cell_type": "code",
   "execution_count": 4,
   "metadata": {},
   "outputs": [],
   "source": [
    "p = 1 # Number of lags\n",
    "\n",
    "beta, residuals, Sigma, _ = OLS(Y_1,Y,p)"
   ]
  },
  {
   "cell_type": "markdown",
   "metadata": {},
   "source": [
    "## Step 2: Obtain the structural impact vector\n",
    "\n",
    "For that, start by the moment conditions that the instrument has to fulfil.\n",
    "\n",
    "$$\n",
    "\\begin{align*}\n",
    "    E(m_t \\varepsilon_{1,t}) = \\alpha \\neq 0 \\\\\n",
    "    E(m_t \\boldsymbol{\\varepsilon}_{2:n,t}) = 0\n",
    "\\end{align*}\n",
    "$$\n",
    "\n",
    "Hence, $\\varepsilon_{1,t}$ will be the monetary policy shock and $\\boldsymbol{\\varepsilon}_{2:n,t}$ will be a vector containing the other shocks (in this case two additionally).\n",
    "\n",
    "Under these assumptions we can identify the first column of the matrix $S$, $\\boldsymbol{s}_1$. To see this, note that\n",
    "\n",
    "$$\n",
    "\\begin{align*}\n",
    "    E(m_t u_t) = S E(m_t \\varepsilon_t) = \n",
    "    \\begin{bmatrix}\n",
    "        s_1 & S_{2:n}\n",
    "    \\end{bmatrix}\n",
    "    \\begin{bmatrix}\n",
    "        E(m_t \\varepsilon_{1,t}) \\\\\n",
    "        E(m_t \\varepsilon_{2:n,t}) \\\\\n",
    "    \\end{bmatrix} = \\boldsymbol{s}_1 \\alpha\n",
    "\\end{align*}\n",
    "$$\n",
    "\n",
    "This can as previously be partitioned into\n",
    "\n",
    "$$\n",
    "\\begin{align*}\n",
    "    E(m_t u_t) =\n",
    "    \\begin{bmatrix}\n",
    "        E(m_t u_{1,t}) \\\\\n",
    "        E(m_t u_{2:n,t}) \\\\\n",
    "    \\end{bmatrix}\n",
    "    \\begin{bmatrix}\n",
    "        s_{1,1} \\alpha \\\\\n",
    "        s_{2:n,1} \\alpha \\\\\n",
    "    \\end{bmatrix}\n",
    "\\end{align*}\n",
    "$$\n",
    "\n",
    "and combining both equations we obtain\n",
    "\n",
    "$$\n",
    "\\begin{align*}\n",
    "    \\tilde{s}_{2:n,1} &\\equiv \\frac{s_{2:n,1}}{s_{1,1}} = \\frac{E(m_t u_{2:n,t})}{E(m_t u_{1,t})}\n",
    "\\end{align*}\n",
    "$$\n",
    "\n",
    "as long as $E(m_t u_{1,t}) \\neq 0$, which is the case if and only if $\\alpha \\neq 0$ and $s_{1,1} \\neq 0$."
   ]
  },
  {
   "cell_type": "code",
   "execution_count": 5,
   "metadata": {},
   "outputs": [],
   "source": [
    "## Get E(m_tu_t) = Sigma_mu\n",
    "Proxy = MP_data['RRSHOCK']                  # We are using Romer and Romer (2004) Narrative series as external instrument.\n",
    "Proxy = Proxy.iloc[1:]                      # Need to remove the first observation since we lagged Y and lost one observation.\n",
    "Proxy.reset_index(drop=True, inplace=True)  # Reset index, since we lost first observation.\n",
    "Proxy = Proxy.to_numpy()                    # Again, in order to be able to use the OLS function we have created.\n",
    "Proxy = Proxy.reshape(len(Y),1)             # Fix dimensions for later appropiate matrix multiplication.\n",
    "\n",
    "m = np.hstack((np.ones((len(Proxy), 1)), Proxy))  # Add column of ones (i.e. a constant for the regression).\n",
    "u = residuals                                     # Just renaming to follow the notation.\n",
    "\n",
    "## Regress the residuals on the proxy and obtain \\Sigma_mu\n",
    "_, _, _, Sigma_mu = OLS(m,u,1)\n",
    "\n",
    "## Get \\tilde{s}_{2:n,1} = E(m_t u_{2:n,t}) / E(m_t u_{1,t})\n",
    "s_tilde_2n = Sigma_mu[1,1:] / Sigma_mu[1,0]"
   ]
  },
  {
   "cell_type": "markdown",
   "metadata": {},
   "source": [
    "\n",
    "\n",
    "\n",
    "\n",
    "\n",
    "\n",
    "\n",
    "Then, $s_{1,1}$ can be obtained. However, first we can also partition the variance-covariance matrix of $u_t$ $\\Sigma$ as\n",
    "\n",
    "$$\n",
    "\\begin{align*}\n",
    "    \\Sigma =\n",
    "    \\begin{bmatrix}\n",
    "    \\sigma_{1,1} & \\boldsymbol{\\sigma}_{1,2} \\\\\n",
    "    \\boldsymbol{\\sigma}_{2,1} & \\Sigma_{2,2}\n",
    "    \\end{bmatrix}\n",
    "\\end{align*} \\ \\text{and} \\quad\n",
    "\\begin{align*}\n",
    "    S =\n",
    "    \\begin{bmatrix}\n",
    "    s_{1,1} & \\boldsymbol{s}_{1,2} \\\\\n",
    "    \\boldsymbol{s}_{2,1} & S_{2,2}\n",
    "    \\end{bmatrix}\n",
    "\\end{align*}\n",
    "$$\n",
    "\n",
    "Then, noting that $\\Sigma = SS'$, we can obtain a the following system of equations\n",
    "\n",
    "$$\n",
    "\\begin{align*}\n",
    "\\begin{bmatrix}\n",
    "    s_{1,1} & \\boldsymbol{s}_{1,2} \\\\\n",
    "    \\boldsymbol{s}_{2,1} & S_{2,2}\n",
    "    \\end{bmatrix}\n",
    "    \\begin{bmatrix}\n",
    "    s_{1,1} & \\boldsymbol{s}_{2,1}' \\\\\n",
    "    \\boldsymbol{s}_{1,2}' & S_{2,2}'\n",
    "    \\end{bmatrix} = \n",
    "    \\begin{bmatrix}\n",
    "    s_{1,1} + \\boldsymbol{s}_{1,2}\\boldsymbol{s}_{1,2}' & s_{1,1}\\boldsymbol{s}_{2,1}' + \\boldsymbol{s}_{1,2}S_{2,2}'\\\\\n",
    "    \\boldsymbol{s}_{2,1}s_{1,1} + S_{2,2}\\boldsymbol{s}_{1,2}' & \\boldsymbol{s}_{2,1}\\boldsymbol{s}_{2,1}' + S_{2,2}S_{2,2}'\\\\\n",
    "    \\end{bmatrix} =\n",
    "    \\begin{bmatrix}\n",
    "    \\sigma_{1,1} & \\boldsymbol{\\sigma}_{1,2} \\\\\n",
    "    \\boldsymbol{\\sigma}_{2,1} & \\Sigma_{2,2}\n",
    "    \\end{bmatrix}\n",
    "\\end{align*}\n",
    "$$\n",
    "\n",
    "where $\\boldsymbol{\\sigma}_{1,2}' = \\boldsymbol{\\sigma}_{2,1}$ since covariance matrices are symmetric.\n",
    "\n",
    "This yields the following system of equations,\n",
    "\n",
    "$$\n",
    "\\begin{align*}\n",
    "    s_{1,1}^2 + \\boldsymbol{s}_{1,2}\\boldsymbol{s}_{1,2}' &= \\sigma_{1,1} \\\\\n",
    "    s_{1,1}\\boldsymbol{s}_{2,1} + S_{2,2}\\boldsymbol{s}_{1,2}' &= \\boldsymbol{\\sigma_{2,1}} \\\\\n",
    "    \\boldsymbol{s}_{2,1}\\boldsymbol{s}_{2,1}' + S_{2,2}S_{2,2}' &= \\Sigma_{2,2}\n",
    "\\end{align*}\n",
    "$$\n",
    "\n",
    "and substituting out $\\boldsymbol{s}_{2,1} = \\boldsymbol{\\tilde{s}}_{2,1} s_{1,1}$ we obtain\n",
    "$$\n",
    "\\begin{align*}\n",
    "    s_{1,1}^2 + \\boldsymbol{s}_{1,2}\\boldsymbol{s}_{1,2}' &= \\sigma_{1,1} \\\\\n",
    "    s_{1,1}\\boldsymbol{\\tilde{s}}_{2,1} s_{1,1} + S_{2,2}\\boldsymbol{s}_{1,2}' &= \\boldsymbol{\\sigma_{2,1}} \\\\\n",
    "    \\boldsymbol{\\tilde{s}}_{2,1} s_{1,1}s_{1,1}'\\boldsymbol{\\tilde{s}}_{2,1}' + S_{2,2}S_{2,2}' &= \\Sigma_{2,2}\n",
    "\\end{align*} \\Rightarrow\n",
    "$$\n",
    "$$\n",
    "\\begin{align}\n",
    "    s_{1,1}^2 + \\boldsymbol{s}_{1,2}\\boldsymbol{s}_{1,2}' &= \\sigma_{1,1} \\\\\n",
    "    s_{1,1}^2\\boldsymbol{\\tilde{s}}_{2,1} + S_{2,2}\\boldsymbol{s}_{1,2}' &= \\boldsymbol{\\sigma_{2,1}} \\\\\n",
    "    s_{1,1}^2 \\boldsymbol{\\tilde{s}}_{2,1}\\boldsymbol{\\tilde{s}}_{2,1}' + S_{2,2}S_{2,2}' &= \\Sigma_{2,2}\n",
    "\\end{align}\n",
    "$$\n",
    "\n",
    "From the first equation, it follows that $s_{1,1} = \\sqrt{\\sigma_{1,1} - \\boldsymbol{s}_{1,2}\\boldsymbol{s}_{1,2}'}$, i.e. $s_{1,1}$ is the standard deviation of $\\varepsilon_{1,t}$, $s_{1,1} = \\sigma_{\\varepsilon_1}$. Therefore, we just need to solve for $\\boldsymbol{s}_{1,2}\\boldsymbol{s}_{1,2}'$. By substracting eq. (1) multiplied by $\\boldsymbol{\\tilde{s}}_{2,1}$ from eq. (2), we can write\n",
    "\n",
    "$$\n",
    "\\begin{align*}\n",
    "    S_{2,2}\\boldsymbol{s}_{1,2}' - \\boldsymbol{\\tilde{s}}_{2,1}\\boldsymbol{s}_{1,2}\\boldsymbol{s}_{1,2}' &= \\boldsymbol{\\sigma_{2,1}} - \\boldsymbol{\\tilde{s}}_{2,1}\\sigma_{1,1}\\\\\n",
    "    (S_{2,2} - \\boldsymbol{\\tilde{s}}_{2,1}\\boldsymbol{s}_{1,2})\\boldsymbol{s}_{1,2}' &= \\boldsymbol{\\sigma_{2,1}} - \\boldsymbol{\\tilde{s}}_{2,1}\\sigma_{1,1} \\\\\n",
    "    \\Rightarrow \\boldsymbol{s}_{1,2}' &= (S_{2,2} - \\boldsymbol{\\tilde{s}}_{2,1}\\boldsymbol{s}_{1,2})^{-1}(\\boldsymbol{\\sigma_{2,1}} - \\boldsymbol{\\tilde{s}}_{2,1}\\sigma_{1,1})\n",
    "\\end{align*}\n",
    "$$\n",
    "\n",
    "Hence,\n",
    "\n",
    "$$\n",
    "\\begin{align*}\n",
    "    \\boldsymbol{s}_{1,2}\\boldsymbol{s}_{1,2}' &= (\\boldsymbol{\\sigma_{2,1}} - \\boldsymbol{\\tilde{s}}_{2,1}\\sigma_{1,1})'(S_{2,2} - \\boldsymbol{\\tilde{s}}_{2,1}\\boldsymbol{s}_{1,2})'^{-1}(S_{2,2} - \\boldsymbol{\\tilde{s}}_{2,1}\\boldsymbol{s}_{1,2})^{-1}(\\boldsymbol{\\sigma_{2,1}} - \\boldsymbol{\\tilde{s}}_{2,1}\\sigma_{1,1})\\\\\n",
    "    &= (\\boldsymbol{\\sigma_{2,1}} - \\boldsymbol{\\tilde{s}}_{2,1}\\sigma_{1,1})'[\\underbrace{(S_{2,2} - \\boldsymbol{\\tilde{s}}_{2,1}\\boldsymbol{s}_{1,2})(S_{2,2} - \\boldsymbol{\\tilde{s}}_{2,1}\\boldsymbol{s}_{1,2})'}_{\\equiv \\Gamma}]^{-1}(\\boldsymbol{\\sigma_{2,1}} - \\boldsymbol{\\tilde{s}}_{2,1}\\sigma_{1,1})\n",
    "\\end{align*}\n",
    "$$\n",
    "\n",
    "so,\n",
    "\n",
    "$$\n",
    "\\Gamma = S_{2,2}S_{2,2}' - S_{2,2}\\boldsymbol{s}_{1,2}'\\boldsymbol{\\tilde{s}}_{2,1}' - \\boldsymbol{\\tilde{s}}_{2,1}\\boldsymbol{s}_{1,2}S_{2,2}' + \\boldsymbol{\\tilde{s}}_{2,1}\\boldsymbol{s}_{1,2}\\boldsymbol{s}_{1,2}'\\boldsymbol{\\tilde{s}}_{2,1}'\n",
    "$$\n",
    "\n",
    "By substracting eq. (2) multiplied by $\\boldsymbol{\\tilde{s}}_{2,1}'$ from eq. (3), we get\n",
    "\n",
    "$$\n",
    "\\begin{align*}\n",
    "    S_{2,2}S_{2,2}' - S_{2,2}\\boldsymbol{s}_{1,2}'\\boldsymbol{\\tilde{s}}_{2,1}' &= \\Sigma_{2,2} - \\boldsymbol{\\sigma_{2,1}}\\boldsymbol{\\tilde{s}}_{2,1}' \\\\\n",
    "    \\Rightarrow  S_{2,2}\\boldsymbol{s}_{1,2}'\\boldsymbol{\\tilde{s}}_{2,1}' &= S_{2,2}S_{2,2}' - (\\Sigma_{2,2} - \\boldsymbol{\\sigma_{2,1}}\\boldsymbol{\\tilde{s}}_{2,1}')\n",
    "\\end{align*}\n",
    "$$\n",
    "\n",
    "Substituting in $\\Gamma$\n",
    "\n",
    "$$\n",
    "\\Gamma = -(S_{2,2}S_{2,2}' - \\boldsymbol{\\tilde{s}}_{2,1}\\boldsymbol{s}_{1,2}\\boldsymbol{s}_{1,2}'\\boldsymbol{\\tilde{s}}_{2,1}') + 2\\Sigma_{2,2} - \\boldsymbol{\\tilde{s}}_{2,1}\\boldsymbol{\\sigma_{1,2}} - \\boldsymbol{\\sigma_{2,1}}\\boldsymbol{\\tilde{s}}_{2,1}\n",
    "$$\n",
    "\n",
    "and in a similar way, by substracting eq. (1) pre-multiplied by $\\boldsymbol{\\tilde{s}}_{2,1}$ and post-multiplied by $\\boldsymbol{\\tilde{s}}_{2,1}'$ from eq. (3)\n",
    "\n",
    "$$\n",
    "\\begin{align*}\n",
    "    S_{2,2}S_{2,2}' - \\boldsymbol{\\tilde{s}}_{2,1}\\boldsymbol{s}_{1,2}\\boldsymbol{s}_{1,2}'\\boldsymbol{\\tilde{s}}_{2,1}' &= \\Sigma_{2,2} - \\sigma_{1,1}\\boldsymbol{\\tilde{s}}_{2,1}\\boldsymbol{\\tilde{s}}_{2,1}'\n",
    "\\end{align*}\n",
    "$$\n",
    "\n",
    "which we can use in $\\Gamma$ to obtain\n",
    "\n",
    "$$\n",
    "\\Gamma = \\Sigma_{2,2} - (\\boldsymbol{\\tilde{s}}_{2,1}\\boldsymbol{\\sigma_{1,2}} + \\boldsymbol{\\sigma_{2,1}}\\boldsymbol{\\tilde{s}}_{2,1}') + \\sigma_{1,1}\\boldsymbol{\\tilde{s}}_{2,1}\\boldsymbol{\\tilde{s}}_{2,1}'\n",
    "$$\n",
    "\n",
    "Thus,\n",
    "$$\n",
    "\\boldsymbol{s}_{1,2}\\boldsymbol{s}_{1,2}' = (\\underbrace{\\boldsymbol{\\sigma}_{2,1} -\\boldsymbol{\\tilde{s}}_{2,1} \\sigma_{1,1}}_{\\equiv s12A})'[\\underbrace{\\Sigma_{2,2} - (\\boldsymbol{\\tilde{s}}_{2,1}\\boldsymbol{\\sigma}_{1,2} + \\boldsymbol{\\sigma}_{2,1}\\boldsymbol{\\tilde{s}}_{2,1}')}_{\\equiv s12B}]^{-1}(\\boldsymbol{\\sigma}_{2,1} -\\boldsymbol{\\tilde{s}}_{2,1} \\sigma_{1,1})\n",
    "$$\n",
    "\n",
    "which is build from known variable."
   ]
  },
  {
   "cell_type": "code",
   "execution_count": 6,
   "metadata": {},
   "outputs": [],
   "source": [
    "s12A = Sigma[1:,0] - s_tilde_2n * Sigma[0,0]\n",
    "s12B = Sigma[1:,1:] - (s_tilde_2n * Sigma[0,1:] + Sigma[1:,0] * s_tilde_2n.T)\n",
    "\n",
    "s12s12T = s12A.T @ np.linalg.inv(s12B) @ s12A    # @ is a shortcut for np.matmul().\n",
    "\n",
    "# s12s12T_aux = np.matmul(s12A.T, np.linalg.inv(s12B))\n",
    "# s12s12T = np.matmul(s12s12T_aux, s12A)"
   ]
  },
  {
   "cell_type": "markdown",
   "metadata": {},
   "source": [
    "Now we just use that variable to obtain $s_{1,1} = \\sqrt{\\sigma_{1,1} - \\boldsymbol{s}_{1,2}\\boldsymbol{s}_{1,2}'}$"
   ]
  },
  {
   "cell_type": "code",
   "execution_count": 7,
   "metadata": {},
   "outputs": [],
   "source": [
    "s11 = np.sqrt(Sigma[0,0] - s12s12T)"
   ]
  },
  {
   "cell_type": "markdown",
   "metadata": {},
   "source": [
    "Therefore, we now already have the structural impact vector (i.e. the first column of the matrix $S$)\n",
    "\n",
    "$$\n",
    "\\boldsymbol{s}_1 = \n",
    "\\begin{bmatrix}\n",
    "    s_{1,1}\\\\\n",
    "    \\boldsymbol{\\tilde{s}}_{2,1}s_{1,1}\n",
    "\\end{bmatrix}\n",
    "\n",
    "$$"
   ]
  },
  {
   "cell_type": "code",
   "execution_count": 8,
   "metadata": {},
   "outputs": [],
   "source": [
    "s1 = np.hstack((s11, s_tilde_2n * s11))\n",
    "s1 = s1.reshape(3,1) # Just reshape to have the correct dimensions"
   ]
  },
  {
   "cell_type": "markdown",
   "metadata": {},
   "source": [
    "Now, we can obtain the Monetary Policy shock, as\n",
    "\n",
    "$$\n",
    "\\varepsilon_{1,t} = \\boldsymbol{s}_1'\\Sigma^{-1}\\boldsymbol{u}_{t}' = \\boldsymbol{s}_1'(SS')^{-1}\\boldsymbol{u}_{t}'\n",
    "$$"
   ]
  },
  {
   "cell_type": "code",
   "execution_count": 9,
   "metadata": {},
   "outputs": [],
   "source": [
    "MP_shock = s1.T @ np.linalg.inv(Sigma) @ u.T\n",
    "MP_shock = MP_shock.T"
   ]
  },
  {
   "cell_type": "code",
   "execution_count": 10,
   "metadata": {},
   "outputs": [
    {
     "data": {
      "text/plain": [
       "[<matplotlib.lines.Line2D at 0x7f940b53bfd0>]"
      ]
     },
     "execution_count": 10,
     "metadata": {},
     "output_type": "execute_result"
    },
    {
     "data": {
      "image/png": "[encoded data removed]",
      "text/plain": [
       "<Figure size 640x480 with 1 Axes>"
      ]
     },
     "metadata": {},
     "output_type": "display_data"
    }
   ],
   "source": [
    "import matplotlib.pyplot as plt\n",
    "\n",
    "plt.plot(range(len(MP_shock)),MP_shock)"
   ]
  },
  {
   "cell_type": "code",
   "execution_count": null,
   "metadata": {},
   "outputs": [],
   "source": []
  }
 ],
 "metadata": {
  "kernelspec": {
   "display_name": "base",
   "language": "python",
   "name": "python3"
  },
  "language_info": {
   "codemirror_mode": {
    "name": "ipython",
    "version": 3
   },
   "file_extension": ".py",
   "mimetype": "text/x-python",
   "name": "python",
   "nbconvert_exporter": "python",
   "pygments_lexer": "ipython3",
   "version": "3.9.12"
  }
 },
 "nbformat": 4,
 "nbformat_minor": 2
}
